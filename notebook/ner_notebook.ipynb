{
  "nbformat": 4,
  "nbformat_minor": 0,
  "metadata": {
    "colab": {
      "name": "ner_notebook.ipynb",
      "provenance": [],
      "collapsed_sections": []
    },
    "kernelspec": {
      "name": "python3",
      "display_name": "Python 3"
    },
    "language_info": {
      "name": "python"
    }
  },
  "cells": [
    {
      "cell_type": "markdown",
      "metadata": {
        "id": "RFkMh6ThCep8"
      },
      "source": [
        "# Task\n",
        "Given a plain text recipe essay with no bulleted ingredient lines or recipe steps whatsoever. Create a model that is able to extract the ingredient names along with their quantities."
      ]
    },
    {
      "cell_type": "markdown",
      "metadata": {
        "id": "JtAoCsBFq3vj"
      },
      "source": [
        "# Import Libraries\n",
        "\n"
      ]
    },
    {
      "cell_type": "code",
      "metadata": {
        "id": "8Jg4xNDxQjzp"
      },
      "source": [
        "import json\n",
        "import spacy\n",
        "import random\n",
        "from spacy import displacy\n",
        "from pathlib import Path\n",
        "from tqdm import tqdm"
      ],
      "execution_count": 2,
      "outputs": []
    },
    {
      "cell_type": "markdown",
      "metadata": {
        "id": "WwBbN4AkrBgD"
      },
      "source": [
        "# Load Data"
      ]
    },
    {
      "cell_type": "code",
      "metadata": {
        "id": "gSOtt39Vnhv7"
      },
      "source": [
        "def load_data(path):\n",
        "    with open(path) as f:\n",
        "        data = json.load(f)\n",
        "    return data\n",
        "\n",
        "def clean(data):\n",
        "  \"\"\" This function removes the lines with empty entities\n",
        "  Args:\n",
        "      data: a dictionary in spacy training format\n",
        "\n",
        "  Returns:\n",
        "      train_data: a clean dictionary\n",
        "  \"\"\"\n",
        "  train_data = []\n",
        "  for i in data['annotations']:\n",
        "    k = i[1]['entities']\n",
        "    if len(k) != 0:\n",
        "      train_data.append(i)\n",
        "  return train_data"
      ],
      "execution_count": 15,
      "outputs": []
    },
    {
      "cell_type": "markdown",
      "metadata": {
        "id": "E2RUJTAXrOGd"
      },
      "source": [
        "# Training"
      ]
    },
    {
      "cell_type": "code",
      "metadata": {
        "id": "BqDRMrSonrv6"
      },
      "source": [
        "def ner(train_data, model, n_iter, output_dir):\n",
        "  \"\"\" This function is for training and saving model\n",
        "  Args:\n",
        "      train_data: a dictionary in spacy training format\n",
        "      model: spacy pretrained model\n",
        "      n_iter: number of iteration for training\n",
        "      output_dir: path for saving traind model\n",
        "\n",
        "  Returns:\n",
        "      trained model\n",
        "  \"\"\"\n",
        "\n",
        "  if model is not None:\n",
        "      nlp = spacy.load(model)  \n",
        "      print(\"Loaded model '%s'\" % model)\n",
        "  else:\n",
        "      nlp = spacy.blank('en')  \n",
        "      print(\"Created blank 'en' model\")\n",
        "\n",
        "  if 'ner' not in nlp.pipe_names:\n",
        "    ner = nlp.create_pipe('ner')\n",
        "    nlp.add_pipe(ner, last=True)\n",
        "  else:\n",
        "    ner = nlp.get_pipe('ner')\n",
        "\n",
        "  for _, annotations in train_data:\n",
        "      for ent in annotations.get('entities'):\n",
        "          ner.add_label(ent[2])\n",
        "\n",
        "  other_pipes = [pipe for pipe in nlp.pipe_names if pipe != 'ner']\n",
        "  with nlp.disable_pipes(*other_pipes):  # only train NER\n",
        "      optimizer = nlp.begin_training()\n",
        "      for itn in range(n_iter):\n",
        "          random.shuffle(train_data)\n",
        "          losses = {}\n",
        "          for text, annotations in tqdm(train_data):\n",
        "              nlp.update(\n",
        "                  [text],  \n",
        "                  [annotations],  \n",
        "                  drop=0.2,   \n",
        "                  sgd=optimizer,\n",
        "                  losses=losses)\n",
        "          print(losses)\n",
        "          \n",
        "  if output_dir is not None:\n",
        "    output_dir = Path(output_dir)\n",
        "    if not output_dir.exists():\n",
        "        output_dir.mkdir()\n",
        "    nlp.to_disk(output_dir)\n",
        "    print(\"Saved model to\", output_dir)\n"
      ],
      "execution_count": 16,
      "outputs": []
    },
    {
      "cell_type": "code",
      "metadata": {
        "colab": {
          "base_uri": "https://localhost:8080/"
        },
        "id": "HgXjFS-6nu6H",
        "outputId": "6667d47b-91e1-452c-bcc5-65a137979262"
      },
      "source": [
        "path = 'training_data.json'\n",
        "model=None\n",
        "n_iter=100\n",
        "output_dir=Path(\"/model\")\n",
        "\n",
        "\n",
        "data = load_data(path)\n",
        "print(\".....loading dataset\")\n",
        "train_data = clean(data)\n",
        "print(\".....training\")\n",
        "ner(train_data, model, n_iter, output_dir)"
      ],
      "execution_count": 17,
      "outputs": [
        {
          "output_type": "stream",
          "text": [
            ".....loading dataset\n",
            ".....training\n"
          ],
          "name": "stdout"
        },
        {
          "output_type": "stream",
          "text": [
            "\r  0%|          | 0/40 [00:00<?, ?it/s]"
          ],
          "name": "stderr"
        },
        {
          "output_type": "stream",
          "text": [
            "Created blank 'en' model\n"
          ],
          "name": "stdout"
        },
        {
          "output_type": "stream",
          "text": [
            "100%|██████████| 40/40 [00:02<00:00, 13.67it/s]\n",
            "  5%|▌         | 2/40 [00:00<00:02, 14.40it/s]"
          ],
          "name": "stderr"
        },
        {
          "output_type": "stream",
          "text": [
            "{'ner': 248.4913252251384}\n"
          ],
          "name": "stdout"
        },
        {
          "output_type": "stream",
          "text": [
            "100%|██████████| 40/40 [00:03<00:00, 12.90it/s]\n",
            "  5%|▌         | 2/40 [00:00<00:02, 13.80it/s]"
          ],
          "name": "stderr"
        },
        {
          "output_type": "stream",
          "text": [
            "{'ner': 348.1156234299188}\n"
          ],
          "name": "stdout"
        },
        {
          "output_type": "stream",
          "text": [
            "100%|██████████| 40/40 [00:02<00:00, 13.39it/s]\n",
            "  5%|▌         | 2/40 [00:00<00:02, 12.68it/s]"
          ],
          "name": "stderr"
        },
        {
          "output_type": "stream",
          "text": [
            "{'ner': 532.3225144368291}\n"
          ],
          "name": "stdout"
        },
        {
          "output_type": "stream",
          "text": [
            "100%|██████████| 40/40 [00:02<00:00, 14.20it/s]\n",
            "  5%|▌         | 2/40 [00:00<00:02, 15.62it/s]"
          ],
          "name": "stderr"
        },
        {
          "output_type": "stream",
          "text": [
            "{'ner': 391.1139349626011}\n"
          ],
          "name": "stdout"
        },
        {
          "output_type": "stream",
          "text": [
            "100%|██████████| 40/40 [00:02<00:00, 14.23it/s]\n",
            "  5%|▌         | 2/40 [00:00<00:02, 15.20it/s]"
          ],
          "name": "stderr"
        },
        {
          "output_type": "stream",
          "text": [
            "{'ner': 238.12006087375016}\n"
          ],
          "name": "stdout"
        },
        {
          "output_type": "stream",
          "text": [
            "100%|██████████| 40/40 [00:02<00:00, 14.07it/s]\n",
            "  5%|▌         | 2/40 [00:00<00:02, 14.89it/s]"
          ],
          "name": "stderr"
        },
        {
          "output_type": "stream",
          "text": [
            "{'ner': 135.34738575914733}\n"
          ],
          "name": "stdout"
        },
        {
          "output_type": "stream",
          "text": [
            "100%|██████████| 40/40 [00:02<00:00, 14.29it/s]\n",
            "  5%|▌         | 2/40 [00:00<00:02, 15.23it/s]"
          ],
          "name": "stderr"
        },
        {
          "output_type": "stream",
          "text": [
            "{'ner': 91.276739899145}\n"
          ],
          "name": "stdout"
        },
        {
          "output_type": "stream",
          "text": [
            "100%|██████████| 40/40 [00:02<00:00, 14.28it/s]\n",
            "  5%|▌         | 2/40 [00:00<00:02, 13.05it/s]"
          ],
          "name": "stderr"
        },
        {
          "output_type": "stream",
          "text": [
            "{'ner': 83.3760928162656}\n"
          ],
          "name": "stdout"
        },
        {
          "output_type": "stream",
          "text": [
            "100%|██████████| 40/40 [00:02<00:00, 14.33it/s]\n",
            "  5%|▌         | 2/40 [00:00<00:03, 10.78it/s]"
          ],
          "name": "stderr"
        },
        {
          "output_type": "stream",
          "text": [
            "{'ner': 49.27178377128427}\n"
          ],
          "name": "stdout"
        },
        {
          "output_type": "stream",
          "text": [
            "100%|██████████| 40/40 [00:02<00:00, 13.81it/s]\n",
            "  5%|▌         | 2/40 [00:00<00:02, 13.39it/s]"
          ],
          "name": "stderr"
        },
        {
          "output_type": "stream",
          "text": [
            "{'ner': 47.12760450669182}\n"
          ],
          "name": "stdout"
        },
        {
          "output_type": "stream",
          "text": [
            "100%|██████████| 40/40 [00:02<00:00, 13.99it/s]\n",
            "  5%|▌         | 2/40 [00:00<00:02, 13.95it/s]"
          ],
          "name": "stderr"
        },
        {
          "output_type": "stream",
          "text": [
            "{'ner': 33.65838257640198}\n"
          ],
          "name": "stdout"
        },
        {
          "output_type": "stream",
          "text": [
            "100%|██████████| 40/40 [00:03<00:00, 13.04it/s]\n",
            "  5%|▌         | 2/40 [00:00<00:02, 14.15it/s]"
          ],
          "name": "stderr"
        },
        {
          "output_type": "stream",
          "text": [
            "{'ner': 39.57468420579015}\n"
          ],
          "name": "stdout"
        },
        {
          "output_type": "stream",
          "text": [
            "100%|██████████| 40/40 [00:02<00:00, 13.78it/s]\n",
            "  5%|▌         | 2/40 [00:00<00:03, 12.62it/s]"
          ],
          "name": "stderr"
        },
        {
          "output_type": "stream",
          "text": [
            "{'ner': 32.18693456368458}\n"
          ],
          "name": "stdout"
        },
        {
          "output_type": "stream",
          "text": [
            "100%|██████████| 40/40 [00:02<00:00, 13.60it/s]\n",
            "  5%|▌         | 2/40 [00:00<00:02, 14.33it/s]"
          ],
          "name": "stderr"
        },
        {
          "output_type": "stream",
          "text": [
            "{'ner': 18.50818784172261}\n"
          ],
          "name": "stdout"
        },
        {
          "output_type": "stream",
          "text": [
            "100%|██████████| 40/40 [00:03<00:00, 13.11it/s]\n",
            "  5%|▌         | 2/40 [00:00<00:02, 13.39it/s]"
          ],
          "name": "stderr"
        },
        {
          "output_type": "stream",
          "text": [
            "{'ner': 15.659425695187911}\n"
          ],
          "name": "stdout"
        },
        {
          "output_type": "stream",
          "text": [
            "100%|██████████| 40/40 [00:02<00:00, 13.88it/s]\n",
            "  5%|▌         | 2/40 [00:00<00:03, 12.57it/s]"
          ],
          "name": "stderr"
        },
        {
          "output_type": "stream",
          "text": [
            "{'ner': 9.814667849990165}\n"
          ],
          "name": "stdout"
        },
        {
          "output_type": "stream",
          "text": [
            "100%|██████████| 40/40 [00:02<00:00, 13.73it/s]\n",
            "  5%|▌         | 2/40 [00:00<00:02, 13.69it/s]"
          ],
          "name": "stderr"
        },
        {
          "output_type": "stream",
          "text": [
            "{'ner': 8.303242869022151}\n"
          ],
          "name": "stdout"
        },
        {
          "output_type": "stream",
          "text": [
            "100%|██████████| 40/40 [00:02<00:00, 13.44it/s]\n",
            "  5%|▌         | 2/40 [00:00<00:02, 14.98it/s]"
          ],
          "name": "stderr"
        },
        {
          "output_type": "stream",
          "text": [
            "{'ner': 8.474027240698595}\n"
          ],
          "name": "stdout"
        },
        {
          "output_type": "stream",
          "text": [
            "100%|██████████| 40/40 [00:03<00:00, 12.61it/s]\n",
            "  5%|▌         | 2/40 [00:00<00:03, 11.33it/s]"
          ],
          "name": "stderr"
        },
        {
          "output_type": "stream",
          "text": [
            "{'ner': 4.490093213952122}\n"
          ],
          "name": "stdout"
        },
        {
          "output_type": "stream",
          "text": [
            "100%|██████████| 40/40 [00:03<00:00, 12.42it/s]\n",
            "  5%|▌         | 2/40 [00:00<00:02, 12.91it/s]"
          ],
          "name": "stderr"
        },
        {
          "output_type": "stream",
          "text": [
            "{'ner': 9.376166845335135}\n"
          ],
          "name": "stdout"
        },
        {
          "output_type": "stream",
          "text": [
            "100%|██████████| 40/40 [00:03<00:00, 12.36it/s]\n",
            "  5%|▌         | 2/40 [00:00<00:02, 13.88it/s]"
          ],
          "name": "stderr"
        },
        {
          "output_type": "stream",
          "text": [
            "{'ner': 4.452892942250787}\n"
          ],
          "name": "stdout"
        },
        {
          "output_type": "stream",
          "text": [
            "100%|██████████| 40/40 [00:03<00:00, 12.47it/s]\n",
            "  5%|▌         | 2/40 [00:00<00:03, 12.62it/s]"
          ],
          "name": "stderr"
        },
        {
          "output_type": "stream",
          "text": [
            "{'ner': 2.380274379863873}\n"
          ],
          "name": "stdout"
        },
        {
          "output_type": "stream",
          "text": [
            "100%|██████████| 40/40 [00:03<00:00, 12.48it/s]\n",
            "  5%|▌         | 2/40 [00:00<00:02, 13.38it/s]"
          ],
          "name": "stderr"
        },
        {
          "output_type": "stream",
          "text": [
            "{'ner': 13.794892313793573}\n"
          ],
          "name": "stdout"
        },
        {
          "output_type": "stream",
          "text": [
            "100%|██████████| 40/40 [00:03<00:00, 12.30it/s]\n",
            "  2%|▎         | 1/40 [00:00<00:04,  9.25it/s]"
          ],
          "name": "stderr"
        },
        {
          "output_type": "stream",
          "text": [
            "{'ner': 0.020287739672074454}\n"
          ],
          "name": "stdout"
        },
        {
          "output_type": "stream",
          "text": [
            "100%|██████████| 40/40 [00:03<00:00, 12.45it/s]\n",
            "  5%|▌         | 2/40 [00:00<00:02, 14.59it/s]"
          ],
          "name": "stderr"
        },
        {
          "output_type": "stream",
          "text": [
            "{'ner': 0.1267662503719665}\n"
          ],
          "name": "stdout"
        },
        {
          "output_type": "stream",
          "text": [
            "100%|██████████| 40/40 [00:03<00:00, 12.76it/s]\n",
            "  5%|▌         | 2/40 [00:00<00:02, 13.80it/s]"
          ],
          "name": "stderr"
        },
        {
          "output_type": "stream",
          "text": [
            "{'ner': 0.06528633954872715}\n"
          ],
          "name": "stdout"
        },
        {
          "output_type": "stream",
          "text": [
            "100%|██████████| 40/40 [00:03<00:00, 12.37it/s]\n",
            "  5%|▌         | 2/40 [00:00<00:02, 12.95it/s]"
          ],
          "name": "stderr"
        },
        {
          "output_type": "stream",
          "text": [
            "{'ner': 5.162481256834163}\n"
          ],
          "name": "stdout"
        },
        {
          "output_type": "stream",
          "text": [
            "100%|██████████| 40/40 [00:03<00:00, 13.25it/s]\n",
            "  5%|▌         | 2/40 [00:00<00:03, 12.11it/s]"
          ],
          "name": "stderr"
        },
        {
          "output_type": "stream",
          "text": [
            "{'ner': 13.95970647294533}\n"
          ],
          "name": "stdout"
        },
        {
          "output_type": "stream",
          "text": [
            "100%|██████████| 40/40 [00:02<00:00, 13.65it/s]\n",
            "  5%|▌         | 2/40 [00:00<00:02, 14.22it/s]"
          ],
          "name": "stderr"
        },
        {
          "output_type": "stream",
          "text": [
            "{'ner': 14.451414120026675}\n"
          ],
          "name": "stdout"
        },
        {
          "output_type": "stream",
          "text": [
            "100%|██████████| 40/40 [00:02<00:00, 14.71it/s]\n",
            "  5%|▌         | 2/40 [00:00<00:02, 12.92it/s]"
          ],
          "name": "stderr"
        },
        {
          "output_type": "stream",
          "text": [
            "{'ner': 10.794809183820885}\n"
          ],
          "name": "stdout"
        },
        {
          "output_type": "stream",
          "text": [
            "100%|██████████| 40/40 [00:02<00:00, 14.40it/s]\n",
            "  5%|▌         | 2/40 [00:00<00:02, 13.82it/s]"
          ],
          "name": "stderr"
        },
        {
          "output_type": "stream",
          "text": [
            "{'ner': 35.704136465865155}\n"
          ],
          "name": "stdout"
        },
        {
          "output_type": "stream",
          "text": [
            "100%|██████████| 40/40 [00:02<00:00, 14.38it/s]\n",
            "  5%|▌         | 2/40 [00:00<00:02, 15.94it/s]"
          ],
          "name": "stderr"
        },
        {
          "output_type": "stream",
          "text": [
            "{'ner': 26.97951597397668}\n"
          ],
          "name": "stdout"
        },
        {
          "output_type": "stream",
          "text": [
            "100%|██████████| 40/40 [00:02<00:00, 14.11it/s]\n",
            "  5%|▌         | 2/40 [00:00<00:02, 16.16it/s]"
          ],
          "name": "stderr"
        },
        {
          "output_type": "stream",
          "text": [
            "{'ner': 26.45259444799342}\n"
          ],
          "name": "stdout"
        },
        {
          "output_type": "stream",
          "text": [
            "100%|██████████| 40/40 [00:02<00:00, 14.27it/s]\n",
            "  5%|▌         | 2/40 [00:00<00:02, 14.77it/s]"
          ],
          "name": "stderr"
        },
        {
          "output_type": "stream",
          "text": [
            "{'ner': 24.716636176121625}\n"
          ],
          "name": "stdout"
        },
        {
          "output_type": "stream",
          "text": [
            "100%|██████████| 40/40 [00:02<00:00, 14.02it/s]\n",
            "  5%|▌         | 2/40 [00:00<00:02, 16.71it/s]"
          ],
          "name": "stderr"
        },
        {
          "output_type": "stream",
          "text": [
            "{'ner': 18.757650949479697}\n"
          ],
          "name": "stdout"
        },
        {
          "output_type": "stream",
          "text": [
            "100%|██████████| 40/40 [00:02<00:00, 13.88it/s]\n",
            "  5%|▌         | 2/40 [00:00<00:02, 13.31it/s]"
          ],
          "name": "stderr"
        },
        {
          "output_type": "stream",
          "text": [
            "{'ner': 17.576360559416308}\n"
          ],
          "name": "stdout"
        },
        {
          "output_type": "stream",
          "text": [
            "100%|██████████| 40/40 [00:02<00:00, 14.19it/s]\n",
            "  5%|▌         | 2/40 [00:00<00:03, 12.46it/s]"
          ],
          "name": "stderr"
        },
        {
          "output_type": "stream",
          "text": [
            "{'ner': 7.054584888184306}\n"
          ],
          "name": "stdout"
        },
        {
          "output_type": "stream",
          "text": [
            "100%|██████████| 40/40 [00:02<00:00, 14.24it/s]\n",
            "  2%|▎         | 1/40 [00:00<00:04,  8.97it/s]"
          ],
          "name": "stderr"
        },
        {
          "output_type": "stream",
          "text": [
            "{'ner': 19.094796528482647}\n"
          ],
          "name": "stdout"
        },
        {
          "output_type": "stream",
          "text": [
            "100%|██████████| 40/40 [00:02<00:00, 13.80it/s]\n",
            "  5%|▌         | 2/40 [00:00<00:02, 13.98it/s]"
          ],
          "name": "stderr"
        },
        {
          "output_type": "stream",
          "text": [
            "{'ner': 14.884098486540363}\n"
          ],
          "name": "stdout"
        },
        {
          "output_type": "stream",
          "text": [
            "100%|██████████| 40/40 [00:03<00:00, 13.11it/s]\n",
            "  5%|▌         | 2/40 [00:00<00:02, 13.45it/s]"
          ],
          "name": "stderr"
        },
        {
          "output_type": "stream",
          "text": [
            "{'ner': 9.830594331180965}\n"
          ],
          "name": "stdout"
        },
        {
          "output_type": "stream",
          "text": [
            "100%|██████████| 40/40 [00:03<00:00, 11.76it/s]\n",
            "  5%|▌         | 2/40 [00:00<00:02, 12.83it/s]"
          ],
          "name": "stderr"
        },
        {
          "output_type": "stream",
          "text": [
            "{'ner': 12.831098948755665}\n"
          ],
          "name": "stdout"
        },
        {
          "output_type": "stream",
          "text": [
            "100%|██████████| 40/40 [00:03<00:00, 11.33it/s]\n",
            "  2%|▎         | 1/40 [00:00<00:03,  9.91it/s]"
          ],
          "name": "stderr"
        },
        {
          "output_type": "stream",
          "text": [
            "{'ner': 13.917445576489639}\n"
          ],
          "name": "stdout"
        },
        {
          "output_type": "stream",
          "text": [
            "100%|██████████| 40/40 [00:03<00:00, 11.20it/s]\n",
            "  5%|▌         | 2/40 [00:00<00:03, 11.56it/s]"
          ],
          "name": "stderr"
        },
        {
          "output_type": "stream",
          "text": [
            "{'ner': 36.73754943665498}\n"
          ],
          "name": "stdout"
        },
        {
          "output_type": "stream",
          "text": [
            "100%|██████████| 40/40 [00:03<00:00, 11.42it/s]\n",
            "  5%|▌         | 2/40 [00:00<00:03, 10.80it/s]"
          ],
          "name": "stderr"
        },
        {
          "output_type": "stream",
          "text": [
            "{'ner': 6.289427927334659}\n"
          ],
          "name": "stdout"
        },
        {
          "output_type": "stream",
          "text": [
            "100%|██████████| 40/40 [00:03<00:00, 11.21it/s]\n",
            "  5%|▌         | 2/40 [00:00<00:03, 10.99it/s]"
          ],
          "name": "stderr"
        },
        {
          "output_type": "stream",
          "text": [
            "{'ner': 22.549944207769126}\n"
          ],
          "name": "stdout"
        },
        {
          "output_type": "stream",
          "text": [
            "100%|██████████| 40/40 [00:03<00:00, 10.09it/s]\n",
            "  2%|▎         | 1/40 [00:00<00:04,  8.89it/s]"
          ],
          "name": "stderr"
        },
        {
          "output_type": "stream",
          "text": [
            "{'ner': 6.995161251032196}\n"
          ],
          "name": "stdout"
        },
        {
          "output_type": "stream",
          "text": [
            "100%|██████████| 40/40 [00:04<00:00,  9.89it/s]\n",
            "  0%|          | 0/40 [00:00<?, ?it/s]"
          ],
          "name": "stderr"
        },
        {
          "output_type": "stream",
          "text": [
            "{'ner': 0.08731464864314924}\n"
          ],
          "name": "stdout"
        },
        {
          "output_type": "stream",
          "text": [
            "100%|██████████| 40/40 [00:03<00:00, 10.21it/s]\n",
            "  5%|▌         | 2/40 [00:00<00:03, 10.32it/s]"
          ],
          "name": "stderr"
        },
        {
          "output_type": "stream",
          "text": [
            "{'ner': 9.263968251798968}\n"
          ],
          "name": "stdout"
        },
        {
          "output_type": "stream",
          "text": [
            "100%|██████████| 40/40 [00:03<00:00, 10.44it/s]\n",
            "  5%|▌         | 2/40 [00:00<00:03, 10.80it/s]"
          ],
          "name": "stderr"
        },
        {
          "output_type": "stream",
          "text": [
            "{'ner': 6.0713845060700775}\n"
          ],
          "name": "stdout"
        },
        {
          "output_type": "stream",
          "text": [
            "100%|██████████| 40/40 [00:03<00:00, 10.76it/s]\n",
            "  5%|▌         | 2/40 [00:00<00:03, 12.04it/s]"
          ],
          "name": "stderr"
        },
        {
          "output_type": "stream",
          "text": [
            "{'ner': 13.218769405594543}\n"
          ],
          "name": "stdout"
        },
        {
          "output_type": "stream",
          "text": [
            "100%|██████████| 40/40 [00:03<00:00, 10.69it/s]\n",
            "  5%|▌         | 2/40 [00:00<00:03, 10.67it/s]"
          ],
          "name": "stderr"
        },
        {
          "output_type": "stream",
          "text": [
            "{'ner': 3.859329744469556}\n"
          ],
          "name": "stdout"
        },
        {
          "output_type": "stream",
          "text": [
            "100%|██████████| 40/40 [00:04<00:00,  9.91it/s]\n",
            "  2%|▎         | 1/40 [00:00<00:04,  9.17it/s]"
          ],
          "name": "stderr"
        },
        {
          "output_type": "stream",
          "text": [
            "{'ner': 4.450644771603928}\n"
          ],
          "name": "stdout"
        },
        {
          "output_type": "stream",
          "text": [
            "100%|██████████| 40/40 [00:04<00:00,  9.74it/s]\n",
            "  2%|▎         | 1/40 [00:00<00:04,  8.24it/s]"
          ],
          "name": "stderr"
        },
        {
          "output_type": "stream",
          "text": [
            "{'ner': 6.020556927503858}\n"
          ],
          "name": "stdout"
        },
        {
          "output_type": "stream",
          "text": [
            "100%|██████████| 40/40 [00:04<00:00,  9.85it/s]\n",
            "  2%|▎         | 1/40 [00:00<00:03,  9.88it/s]"
          ],
          "name": "stderr"
        },
        {
          "output_type": "stream",
          "text": [
            "{'ner': 0.08278779235847467}\n"
          ],
          "name": "stdout"
        },
        {
          "output_type": "stream",
          "text": [
            "100%|██████████| 40/40 [00:04<00:00,  9.78it/s]\n",
            "  2%|▎         | 1/40 [00:00<00:04,  9.21it/s]"
          ],
          "name": "stderr"
        },
        {
          "output_type": "stream",
          "text": [
            "{'ner': 7.34321606805419}\n"
          ],
          "name": "stdout"
        },
        {
          "output_type": "stream",
          "text": [
            "100%|██████████| 40/40 [00:04<00:00,  9.88it/s]\n",
            "  2%|▎         | 1/40 [00:00<00:04,  9.60it/s]"
          ],
          "name": "stderr"
        },
        {
          "output_type": "stream",
          "text": [
            "{'ner': 7.560851057467505}\n"
          ],
          "name": "stdout"
        },
        {
          "output_type": "stream",
          "text": [
            "100%|██████████| 40/40 [00:04<00:00,  8.73it/s]\n",
            "  2%|▎         | 1/40 [00:00<00:06,  6.25it/s]"
          ],
          "name": "stderr"
        },
        {
          "output_type": "stream",
          "text": [
            "{'ner': 7.565800091684299}\n"
          ],
          "name": "stdout"
        },
        {
          "output_type": "stream",
          "text": [
            "100%|██████████| 40/40 [00:04<00:00,  9.98it/s]\n",
            "  5%|▌         | 2/40 [00:00<00:03, 10.23it/s]"
          ],
          "name": "stderr"
        },
        {
          "output_type": "stream",
          "text": [
            "{'ner': 23.411254159125093}\n"
          ],
          "name": "stdout"
        },
        {
          "output_type": "stream",
          "text": [
            "100%|██████████| 40/40 [00:04<00:00,  9.79it/s]\n",
            "  2%|▎         | 1/40 [00:00<00:03,  9.86it/s]"
          ],
          "name": "stderr"
        },
        {
          "output_type": "stream",
          "text": [
            "{'ner': 9.882640176551408}\n"
          ],
          "name": "stdout"
        },
        {
          "output_type": "stream",
          "text": [
            "100%|██████████| 40/40 [00:04<00:00,  9.81it/s]\n",
            "  5%|▌         | 2/40 [00:00<00:03, 11.11it/s]"
          ],
          "name": "stderr"
        },
        {
          "output_type": "stream",
          "text": [
            "{'ner': 1.897694636641512}\n"
          ],
          "name": "stdout"
        },
        {
          "output_type": "stream",
          "text": [
            "100%|██████████| 40/40 [00:03<00:00, 10.03it/s]\n",
            "  2%|▎         | 1/40 [00:00<00:04,  9.62it/s]"
          ],
          "name": "stderr"
        },
        {
          "output_type": "stream",
          "text": [
            "{'ner': 6.5182612553868555}\n"
          ],
          "name": "stdout"
        },
        {
          "output_type": "stream",
          "text": [
            "100%|██████████| 40/40 [00:04<00:00,  9.79it/s]\n",
            "  2%|▎         | 1/40 [00:00<00:03,  9.88it/s]"
          ],
          "name": "stderr"
        },
        {
          "output_type": "stream",
          "text": [
            "{'ner': 3.8499670890579445}\n"
          ],
          "name": "stdout"
        },
        {
          "output_type": "stream",
          "text": [
            "100%|██████████| 40/40 [00:03<00:00, 10.08it/s]\n",
            "  2%|▎         | 1/40 [00:00<00:04,  8.74it/s]"
          ],
          "name": "stderr"
        },
        {
          "output_type": "stream",
          "text": [
            "{'ner': 3.9579950821973497}\n"
          ],
          "name": "stdout"
        },
        {
          "output_type": "stream",
          "text": [
            "100%|██████████| 40/40 [00:04<00:00,  9.86it/s]\n",
            "  5%|▌         | 2/40 [00:00<00:03, 11.37it/s]"
          ],
          "name": "stderr"
        },
        {
          "output_type": "stream",
          "text": [
            "{'ner': 12.377547837000959}\n"
          ],
          "name": "stdout"
        },
        {
          "output_type": "stream",
          "text": [
            "100%|██████████| 40/40 [00:04<00:00,  9.92it/s]\n",
            "  2%|▎         | 1/40 [00:00<00:03,  9.89it/s]"
          ],
          "name": "stderr"
        },
        {
          "output_type": "stream",
          "text": [
            "{'ner': 0.2214880894147197}\n"
          ],
          "name": "stdout"
        },
        {
          "output_type": "stream",
          "text": [
            "100%|██████████| 40/40 [00:04<00:00,  9.84it/s]\n",
            "  0%|          | 0/40 [00:00<?, ?it/s]"
          ],
          "name": "stderr"
        },
        {
          "output_type": "stream",
          "text": [
            "{'ner': 0.00217604945587613}\n"
          ],
          "name": "stdout"
        },
        {
          "output_type": "stream",
          "text": [
            "100%|██████████| 40/40 [00:04<00:00,  9.93it/s]\n",
            "  0%|          | 0/40 [00:00<?, ?it/s]"
          ],
          "name": "stderr"
        },
        {
          "output_type": "stream",
          "text": [
            "{'ner': 0.0037240017921570667}\n"
          ],
          "name": "stdout"
        },
        {
          "output_type": "stream",
          "text": [
            "100%|██████████| 40/40 [00:04<00:00,  9.96it/s]\n",
            "  2%|▎         | 1/40 [00:00<00:03,  9.79it/s]"
          ],
          "name": "stderr"
        },
        {
          "output_type": "stream",
          "text": [
            "{'ner': 3.114549066168613}\n"
          ],
          "name": "stdout"
        },
        {
          "output_type": "stream",
          "text": [
            "100%|██████████| 40/40 [00:03<00:00, 10.08it/s]\n",
            "  2%|▎         | 1/40 [00:00<00:04,  8.30it/s]"
          ],
          "name": "stderr"
        },
        {
          "output_type": "stream",
          "text": [
            "{'ner': 5.390239804055408e-09}\n"
          ],
          "name": "stdout"
        },
        {
          "output_type": "stream",
          "text": [
            "100%|██████████| 40/40 [00:04<00:00,  9.95it/s]\n",
            "  2%|▎         | 1/40 [00:00<00:04,  9.68it/s]"
          ],
          "name": "stderr"
        },
        {
          "output_type": "stream",
          "text": [
            "{'ner': 4.72453744970065e-07}\n"
          ],
          "name": "stdout"
        },
        {
          "output_type": "stream",
          "text": [
            "100%|██████████| 40/40 [00:04<00:00,  9.96it/s]\n",
            "  2%|▎         | 1/40 [00:00<00:03,  9.90it/s]"
          ],
          "name": "stderr"
        },
        {
          "output_type": "stream",
          "text": [
            "{'ner': 0.00012925591379631907}\n"
          ],
          "name": "stdout"
        },
        {
          "output_type": "stream",
          "text": [
            "100%|██████████| 40/40 [00:03<00:00, 10.25it/s]\n",
            "  0%|          | 0/40 [00:00<?, ?it/s]"
          ],
          "name": "stderr"
        },
        {
          "output_type": "stream",
          "text": [
            "{'ner': 7.761133295044924e-06}\n"
          ],
          "name": "stdout"
        },
        {
          "output_type": "stream",
          "text": [
            "100%|██████████| 40/40 [00:03<00:00, 10.76it/s]\n",
            "  2%|▎         | 1/40 [00:00<00:03,  9.94it/s]"
          ],
          "name": "stderr"
        },
        {
          "output_type": "stream",
          "text": [
            "{'ner': 5.486423510371444}\n"
          ],
          "name": "stdout"
        },
        {
          "output_type": "stream",
          "text": [
            "100%|██████████| 40/40 [00:03<00:00, 10.96it/s]\n",
            "  2%|▎         | 1/40 [00:00<00:04,  7.99it/s]"
          ],
          "name": "stderr"
        },
        {
          "output_type": "stream",
          "text": [
            "{'ner': 1.6766750527438755e-06}\n"
          ],
          "name": "stdout"
        },
        {
          "output_type": "stream",
          "text": [
            "100%|██████████| 40/40 [00:03<00:00, 10.71it/s]\n",
            "  5%|▌         | 2/40 [00:00<00:03, 10.61it/s]"
          ],
          "name": "stderr"
        },
        {
          "output_type": "stream",
          "text": [
            "{'ner': 0.015013274585371012}\n"
          ],
          "name": "stdout"
        },
        {
          "output_type": "stream",
          "text": [
            "100%|██████████| 40/40 [00:03<00:00, 10.70it/s]\n",
            "  0%|          | 0/40 [00:00<?, ?it/s]"
          ],
          "name": "stderr"
        },
        {
          "output_type": "stream",
          "text": [
            "{'ner': 2.1317577471254756}\n"
          ],
          "name": "stdout"
        },
        {
          "output_type": "stream",
          "text": [
            "100%|██████████| 40/40 [00:03<00:00, 10.56it/s]\n",
            "  0%|          | 0/40 [00:00<?, ?it/s]"
          ],
          "name": "stderr"
        },
        {
          "output_type": "stream",
          "text": [
            "{'ner': 7.768371851570531}\n"
          ],
          "name": "stdout"
        },
        {
          "output_type": "stream",
          "text": [
            "100%|██████████| 40/40 [00:03<00:00, 10.80it/s]\n",
            "  5%|▌         | 2/40 [00:00<00:03, 10.66it/s]"
          ],
          "name": "stderr"
        },
        {
          "output_type": "stream",
          "text": [
            "{'ner': 11.543548167757445}\n"
          ],
          "name": "stdout"
        },
        {
          "output_type": "stream",
          "text": [
            "100%|██████████| 40/40 [00:03<00:00, 10.69it/s]\n",
            "  5%|▌         | 2/40 [00:00<00:03, 11.24it/s]"
          ],
          "name": "stderr"
        },
        {
          "output_type": "stream",
          "text": [
            "{'ner': 10.356081899598799}\n"
          ],
          "name": "stdout"
        },
        {
          "output_type": "stream",
          "text": [
            "100%|██████████| 40/40 [00:03<00:00, 10.88it/s]\n",
            "  5%|▌         | 2/40 [00:00<00:03, 10.45it/s]"
          ],
          "name": "stderr"
        },
        {
          "output_type": "stream",
          "text": [
            "{'ner': 0.6944005184065384}\n"
          ],
          "name": "stdout"
        },
        {
          "output_type": "stream",
          "text": [
            "100%|██████████| 40/40 [00:03<00:00, 10.69it/s]\n",
            "  0%|          | 0/40 [00:00<?, ?it/s]"
          ],
          "name": "stderr"
        },
        {
          "output_type": "stream",
          "text": [
            "{'ner': 7.614213165395428}\n"
          ],
          "name": "stdout"
        },
        {
          "output_type": "stream",
          "text": [
            "100%|██████████| 40/40 [00:03<00:00, 10.85it/s]\n",
            "  5%|▌         | 2/40 [00:00<00:03, 11.10it/s]"
          ],
          "name": "stderr"
        },
        {
          "output_type": "stream",
          "text": [
            "{'ner': 8.448490036481424}\n"
          ],
          "name": "stdout"
        },
        {
          "output_type": "stream",
          "text": [
            "100%|██████████| 40/40 [00:03<00:00, 10.63it/s]\n",
            "  5%|▌         | 2/40 [00:00<00:03, 11.70it/s]"
          ],
          "name": "stderr"
        },
        {
          "output_type": "stream",
          "text": [
            "{'ner': 20.793379627224724}\n"
          ],
          "name": "stdout"
        },
        {
          "output_type": "stream",
          "text": [
            "100%|██████████| 40/40 [00:03<00:00, 10.69it/s]\n",
            "  5%|▌         | 2/40 [00:00<00:03, 10.94it/s]"
          ],
          "name": "stderr"
        },
        {
          "output_type": "stream",
          "text": [
            "{'ner': 22.021879237865914}\n"
          ],
          "name": "stdout"
        },
        {
          "output_type": "stream",
          "text": [
            "100%|██████████| 40/40 [00:03<00:00, 10.97it/s]\n",
            "  5%|▌         | 2/40 [00:00<00:03, 10.44it/s]"
          ],
          "name": "stderr"
        },
        {
          "output_type": "stream",
          "text": [
            "{'ner': 23.019719162876672}\n"
          ],
          "name": "stdout"
        },
        {
          "output_type": "stream",
          "text": [
            "100%|██████████| 40/40 [00:03<00:00, 10.59it/s]\n",
            "  5%|▌         | 2/40 [00:00<00:03, 11.03it/s]"
          ],
          "name": "stderr"
        },
        {
          "output_type": "stream",
          "text": [
            "{'ner': 16.88416795940567}\n"
          ],
          "name": "stdout"
        },
        {
          "output_type": "stream",
          "text": [
            "100%|██████████| 40/40 [00:03<00:00, 10.79it/s]\n",
            "  5%|▌         | 2/40 [00:00<00:03, 11.42it/s]"
          ],
          "name": "stderr"
        },
        {
          "output_type": "stream",
          "text": [
            "{'ner': 41.327365737793514}\n"
          ],
          "name": "stdout"
        },
        {
          "output_type": "stream",
          "text": [
            "100%|██████████| 40/40 [00:03<00:00, 10.73it/s]\n",
            "  5%|▌         | 2/40 [00:00<00:03, 11.34it/s]"
          ],
          "name": "stderr"
        },
        {
          "output_type": "stream",
          "text": [
            "{'ner': 33.00790729345499}\n"
          ],
          "name": "stdout"
        },
        {
          "output_type": "stream",
          "text": [
            "100%|██████████| 40/40 [00:03<00:00, 10.55it/s]\n",
            "  2%|▎         | 1/40 [00:00<00:04,  9.56it/s]"
          ],
          "name": "stderr"
        },
        {
          "output_type": "stream",
          "text": [
            "{'ner': 92.12846766085497}\n"
          ],
          "name": "stdout"
        },
        {
          "output_type": "stream",
          "text": [
            "100%|██████████| 40/40 [00:03<00:00, 10.90it/s]\n",
            "  2%|▎         | 1/40 [00:00<00:03,  9.99it/s]"
          ],
          "name": "stderr"
        },
        {
          "output_type": "stream",
          "text": [
            "{'ner': 21.30191020570493}\n"
          ],
          "name": "stdout"
        },
        {
          "output_type": "stream",
          "text": [
            "100%|██████████| 40/40 [00:03<00:00, 10.82it/s]\n",
            "  5%|▌         | 2/40 [00:00<00:03, 11.46it/s]"
          ],
          "name": "stderr"
        },
        {
          "output_type": "stream",
          "text": [
            "{'ner': 12.082708604539507}\n"
          ],
          "name": "stdout"
        },
        {
          "output_type": "stream",
          "text": [
            "100%|██████████| 40/40 [00:03<00:00, 10.78it/s]\n",
            "  2%|▎         | 1/40 [00:00<00:04,  8.92it/s]"
          ],
          "name": "stderr"
        },
        {
          "output_type": "stream",
          "text": [
            "{'ner': 23.27990536620422}\n"
          ],
          "name": "stdout"
        },
        {
          "output_type": "stream",
          "text": [
            "100%|██████████| 40/40 [00:03<00:00, 10.77it/s]\n",
            "  0%|          | 0/40 [00:00<?, ?it/s]"
          ],
          "name": "stderr"
        },
        {
          "output_type": "stream",
          "text": [
            "{'ner': 19.87145030164338}\n"
          ],
          "name": "stdout"
        },
        {
          "output_type": "stream",
          "text": [
            "100%|██████████| 40/40 [00:03<00:00, 10.56it/s]\n",
            "  5%|▌         | 2/40 [00:00<00:03, 11.88it/s]"
          ],
          "name": "stderr"
        },
        {
          "output_type": "stream",
          "text": [
            "{'ner': 2.27461831964428}\n"
          ],
          "name": "stdout"
        },
        {
          "output_type": "stream",
          "text": [
            "100%|██████████| 40/40 [00:03<00:00, 10.62it/s]\n",
            "  5%|▌         | 2/40 [00:00<00:03, 11.20it/s]"
          ],
          "name": "stderr"
        },
        {
          "output_type": "stream",
          "text": [
            "{'ner': 67.32446280512369}\n"
          ],
          "name": "stdout"
        },
        {
          "output_type": "stream",
          "text": [
            "100%|██████████| 40/40 [00:03<00:00, 10.61it/s]\n",
            "  0%|          | 0/40 [00:00<?, ?it/s]"
          ],
          "name": "stderr"
        },
        {
          "output_type": "stream",
          "text": [
            "{'ner': 2.4253143646948416}\n"
          ],
          "name": "stdout"
        },
        {
          "output_type": "stream",
          "text": [
            "100%|██████████| 40/40 [00:03<00:00, 10.74it/s]\n",
            "  2%|▎         | 1/40 [00:00<00:03,  9.95it/s]"
          ],
          "name": "stderr"
        },
        {
          "output_type": "stream",
          "text": [
            "{'ner': 0.4367676106784585}\n"
          ],
          "name": "stdout"
        },
        {
          "output_type": "stream",
          "text": [
            "100%|██████████| 40/40 [00:03<00:00, 10.65it/s]\n",
            "  5%|▌         | 2/40 [00:00<00:03, 11.56it/s]"
          ],
          "name": "stderr"
        },
        {
          "output_type": "stream",
          "text": [
            "{'ner': 2.480389745751377}\n"
          ],
          "name": "stdout"
        },
        {
          "output_type": "stream",
          "text": [
            "100%|██████████| 40/40 [00:03<00:00, 10.96it/s]\n",
            "  5%|▌         | 2/40 [00:00<00:03, 10.84it/s]"
          ],
          "name": "stderr"
        },
        {
          "output_type": "stream",
          "text": [
            "{'ner': 0.8667899559295147}\n"
          ],
          "name": "stdout"
        },
        {
          "output_type": "stream",
          "text": [
            "100%|██████████| 40/40 [00:03<00:00, 10.80it/s]"
          ],
          "name": "stderr"
        },
        {
          "output_type": "stream",
          "text": [
            "{'ner': 1.0901703871628619}\n",
            "Saved model to /model\n"
          ],
          "name": "stdout"
        },
        {
          "output_type": "stream",
          "text": [
            "\n"
          ],
          "name": "stderr"
        }
      ]
    },
    {
      "cell_type": "markdown",
      "metadata": {
        "id": "ExpYIKRerbv3"
      },
      "source": [
        "# Inference"
      ]
    },
    {
      "cell_type": "code",
      "metadata": {
        "colab": {
          "base_uri": "https://localhost:8080/"
        },
        "id": "Gx4sBFMqQ1d-",
        "outputId": "464d4c8c-f88b-4153-95b2-750aaea92ac2"
      },
      "source": [
        "output_dir=Path(\"/model\")\n",
        "print(\"Loading from\", output_dir)\n",
        "nlp2 = spacy.load(output_dir)"
      ],
      "execution_count": 4,
      "outputs": [
        {
          "output_type": "stream",
          "text": [
            "Loading from /content/model\n"
          ],
          "name": "stdout"
        }
      ]
    },
    {
      "cell_type": "code",
      "metadata": {
        "colab": {
          "base_uri": "https://localhost:8080/"
        },
        "id": "HiNwXVw-Q_wR",
        "outputId": "388590d6-7334-486b-e0bd-2337376e689f"
      },
      "source": [
        "text = \"\"\"For the spice mix I have eight guajillo chelates for flavor and four chiles de arbol to bring some heat from which I'm both going to remove the stems and seeds. I'm also gonna add about two teaspoons of whole cumin seeds\"\"\"\n",
        "print(text)"
      ],
      "execution_count": 10,
      "outputs": [
        {
          "output_type": "stream",
          "text": [
            "For the spice mix I have eight guajillo chelates for flavor and four chiles de arbol to bring some heat from which I'm both going to remove the stems and seeds. I'm also gonna add about two teaspoons of whole cumin seeds\n"
          ],
          "name": "stdout"
        }
      ]
    },
    {
      "cell_type": "code",
      "metadata": {
        "colab": {
          "base_uri": "https://localhost:8080/"
        },
        "id": "wSMsVQQWRKr9",
        "outputId": "25ba8c25-f8b0-4f16-dcd1-fddf8ade043f"
      },
      "source": [
        "doc = nlp2(text)\n",
        "for ent in doc.ents:\n",
        "  print(ent.text)\n"
      ],
      "execution_count": 8,
      "outputs": [
        {
          "output_type": "stream",
          "text": [
            "eight guajillo chelates\n",
            "four chiles de arbol\n",
            "two teaspoons of whole cumin seeds\n"
          ],
          "name": "stdout"
        }
      ]
    },
    {
      "cell_type": "code",
      "metadata": {
        "colab": {
          "base_uri": "https://localhost:8080/",
          "height": 87
        },
        "id": "pOAy8tu_RM_f",
        "outputId": "8202ce4b-4f2e-4045-da19-f066bf4256ff"
      },
      "source": [
        "displacy.render(nlp2(doc.text), style='ent', jupyter=True)"
      ],
      "execution_count": 9,
      "outputs": [
        {
          "output_type": "display_data",
          "data": {
            "text/html": [
              "<span class=\"tex2jax_ignore\"><div class=\"entities\" style=\"line-height: 2.5; direction: ltr\">For the spice mix I have \n",
              "<mark class=\"entity\" style=\"background: #ddd; padding: 0.45em 0.6em; margin: 0 0.25em; line-height: 1; border-radius: 0.35em;\">\n",
              "    eight guajillo chelates\n",
              "    <span style=\"font-size: 0.8em; font-weight: bold; line-height: 1; border-radius: 0.35em; text-transform: uppercase; vertical-align: middle; margin-left: 0.5rem\">INGREDIENT</span>\n",
              "</mark>\n",
              " for flavor and \n",
              "<mark class=\"entity\" style=\"background: #ddd; padding: 0.45em 0.6em; margin: 0 0.25em; line-height: 1; border-radius: 0.35em;\">\n",
              "    four chiles de arbol\n",
              "    <span style=\"font-size: 0.8em; font-weight: bold; line-height: 1; border-radius: 0.35em; text-transform: uppercase; vertical-align: middle; margin-left: 0.5rem\">INGREDIENT</span>\n",
              "</mark>\n",
              " to bring some heat from which I'm both going to remove the stems and seeds. I'm also gonna add about \n",
              "<mark class=\"entity\" style=\"background: #ddd; padding: 0.45em 0.6em; margin: 0 0.25em; line-height: 1; border-radius: 0.35em;\">\n",
              "    two teaspoons of whole cumin seeds\n",
              "    <span style=\"font-size: 0.8em; font-weight: bold; line-height: 1; border-radius: 0.35em; text-transform: uppercase; vertical-align: middle; margin-left: 0.5rem\">INGREDIENT</span>\n",
              "</mark>\n",
              "</div></span>"
            ],
            "text/plain": [
              "<IPython.core.display.HTML object>"
            ]
          },
          "metadata": {
            "tags": []
          }
        }
      ]
    }
  ]
}